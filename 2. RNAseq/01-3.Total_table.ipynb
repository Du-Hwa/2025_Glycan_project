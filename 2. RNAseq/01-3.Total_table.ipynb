{
 "cells": [
  {
   "cell_type": "code",
   "execution_count": 1,
   "id": "0d8ba3ef-33c4-4e1a-b596-12534bea5967",
   "metadata": {},
   "outputs": [
    {
     "name": "stderr",
     "output_type": "stream",
     "text": [
      "── \u001b[1mAttaching core tidyverse packages\u001b[22m ──────────────────────── tidyverse 2.0.0 ──\n",
      "\u001b[32m✔\u001b[39m \u001b[34mdplyr    \u001b[39m 1.1.4     \u001b[32m✔\u001b[39m \u001b[34mreadr    \u001b[39m 2.1.5\n",
      "\u001b[32m✔\u001b[39m \u001b[34mforcats  \u001b[39m 1.0.0     \u001b[32m✔\u001b[39m \u001b[34mstringr  \u001b[39m 1.5.1\n",
      "\u001b[32m✔\u001b[39m \u001b[34mggplot2  \u001b[39m 3.5.1     \u001b[32m✔\u001b[39m \u001b[34mtibble   \u001b[39m 3.2.1\n",
      "\u001b[32m✔\u001b[39m \u001b[34mlubridate\u001b[39m 1.9.4     \u001b[32m✔\u001b[39m \u001b[34mtidyr    \u001b[39m 1.3.1\n",
      "\u001b[32m✔\u001b[39m \u001b[34mpurrr    \u001b[39m 1.0.2     \n",
      "── \u001b[1mConflicts\u001b[22m ────────────────────────────────────────── tidyverse_conflicts() ──\n",
      "\u001b[31m✖\u001b[39m \u001b[34mdplyr\u001b[39m::\u001b[32mfilter()\u001b[39m masks \u001b[34mstats\u001b[39m::filter()\n",
      "\u001b[31m✖\u001b[39m \u001b[34mdplyr\u001b[39m::\u001b[32mlag()\u001b[39m    masks \u001b[34mstats\u001b[39m::lag()\n",
      "\u001b[36mℹ\u001b[39m Use the conflicted package (\u001b[3m\u001b[34m<http://conflicted.r-lib.org/>\u001b[39m\u001b[23m) to force all conflicts to become errors\n"
     ]
    }
   ],
   "source": [
    "library(tidyverse)"
   ]
  },
  {
   "cell_type": "code",
   "execution_count": 2,
   "id": "0a2d7635-f8de-4e18-a88d-184f4501bde4",
   "metadata": {},
   "outputs": [
    {
     "data": {
      "text/html": [
       "TRUE"
      ],
      "text/latex": [
       "TRUE"
      ],
      "text/markdown": [
       "TRUE"
      ],
      "text/plain": [
       "[1] TRUE"
      ]
     },
     "metadata": {},
     "output_type": "display_data"
    },
    {
     "data": {
      "text/html": [
       "TRUE"
      ],
      "text/latex": [
       "TRUE"
      ],
      "text/markdown": [
       "TRUE"
      ],
      "text/plain": [
       "[1] TRUE"
      ]
     },
     "metadata": {},
     "output_type": "display_data"
    },
    {
     "data": {
      "text/html": [
       "FALSE"
      ],
      "text/latex": [
       "FALSE"
      ],
      "text/markdown": [
       "FALSE"
      ],
      "text/plain": [
       "[1] FALSE"
      ]
     },
     "metadata": {},
     "output_type": "display_data"
    }
   ],
   "source": [
    "#### Step1_Generate_Total_table ####\n",
    "res.30min.rh.full <- read.csv(\"01.DESeq_results/rh_30min_gene.csv\")\n",
    "res.90min.rh.full <- read.csv(\"01.DESeq_results/rh_90min_gene.csv\")\n",
    "res.30min.og.full <- read.csv(\"01.DESeq_results/og_30min_gene.csv\")\n",
    "res.90min.og.full <- read.csv(\"01.DESeq_results/og_90min_gene.csv\")\n",
    "\n",
    "# Check gene list between rh and og\n",
    "identical(res.30min.og.full$Gene, res.90min.og.full$Gene)\n",
    "identical(res.30min.rh.full$Gene, res.90min.rh.full$Gene)\n",
    "identical(res.30min.og.full$Gene, res.90min.rh.full$Gene)"
   ]
  },
  {
   "cell_type": "code",
   "execution_count": 3,
   "id": "abb1dbfc-9c6d-4878-9c0d-40969dda62d8",
   "metadata": {},
   "outputs": [
    {
     "data": {
      "text/html": [
       "32833"
      ],
      "text/latex": [
       "32833"
      ],
      "text/markdown": [
       "32833"
      ],
      "text/plain": [
       "[1] 32833"
      ]
     },
     "metadata": {},
     "output_type": "display_data"
    },
    {
     "data": {
      "text/html": [
       "27655"
      ],
      "text/latex": [
       "27655"
      ],
      "text/markdown": [
       "27655"
      ],
      "text/plain": [
       "[1] 27655"
      ]
     },
     "metadata": {},
     "output_type": "display_data"
    },
    {
     "data": {
      "text/html": [
       "60488"
      ],
      "text/latex": [
       "60488"
      ],
      "text/markdown": [
       "60488"
      ],
      "text/plain": [
       "[1] 60488"
      ]
     },
     "metadata": {},
     "output_type": "display_data"
    },
    {
     "data": {
      "text/html": [
       "32833"
      ],
      "text/latex": [
       "32833"
      ],
      "text/markdown": [
       "32833"
      ],
      "text/plain": [
       "[1] 32833"
      ]
     },
     "metadata": {},
     "output_type": "display_data"
    }
   ],
   "source": [
    "# Check the gene number between RG-I and og\n",
    "length(res.30min.og.full$Gene)\n",
    "length(res.30min.rh.full$Gene)\n",
    "test <- c(res.30min.og.full$Gene, res.30min.rh.full$Gene)\n",
    "length(test)\n",
    "test <- unique(test)\n",
    "length(test)"
   ]
  },
  {
   "cell_type": "code",
   "execution_count": 4,
   "id": "acdf4b85-996a-4d2f-92e6-f0a39d822335",
   "metadata": {},
   "outputs": [
    {
     "name": "stdout",
     "output_type": "stream",
     "text": [
      "[1] \"01.DESeq_results/total_og_gene.csv\"\n",
      "[1] \"01.DESeq_results/total_rh_gene.csv\"\n",
      "[1] \"01.DESeq_results/total_rh_og_gene.csv\"\n"
     ]
    }
   ],
   "source": [
    "# Full-join\n",
    "Total.rh <- full_join(res.30min.rh.full, res.90min.rh.full, \n",
    "                        by=\"Gene\", suffix = c(\"_RHAM_30min\", \"_RHAM_90min\")) %>%\n",
    "  dplyr::select(!starts_with(\"RHAM1\"))\n",
    "Total.og <- full_join(res.30min.og.full, res.90min.og.full, \n",
    "                      by=\"Gene\", suffix = c(\"_OGs_30min\", \"_OGs_90min\")) %>%\n",
    "  dplyr::select(!starts_with(\"R\"))\n",
    "Total.table <- full_join(Total.rh, Total.og, by=\"Gene\")\n",
    "\n",
    "Temp.counts.rh <- res.30min.rh.full %>%\n",
    "  dplyr::select(Gene, starts_with(\"R\"))\n",
    "colnames(Temp.counts.rh) <- c(\"Gene\", \n",
    "                              \"RHAM1_00min_1\", \"RHAM1_00min_2\", \"RHAM1_00min_3\",\n",
    "                              \"RHAM1_30min_1\", \"RHAM1_30min_2\", \"RHAM1_30min_3\",\n",
    "                              \"RHAM1_90min_1\", \"RHAM1_90min_2\", \"RHAM1_90min_3\")\n",
    "\n",
    "Temp.counts.og <- res.30min.og.full %>%\n",
    "  dplyr::select(Gene, starts_with(\"R\"))\n",
    "colnames(Temp.counts.og) <- c(\"Gene\", \n",
    "                              \"OG_00min_1\", \"OG_00min_2\", \"OG_00min_3\", \"OG_00min_4\",\n",
    "                              \"OG_30min_1\", \"OG_30min_2\", \"OG_30min_3\", \"OG_30min_4\",\n",
    "                              \"OG_90min_1\", \"OG_90min_2\", \"OG_90min_3\", \"OG_90min_4\")\n",
    "\n",
    "Total.table <- full_join(Total.table, Temp.counts.rh, by=\"Gene\")\n",
    "Total.table <- full_join(Total.table, Temp.counts.og, by=\"Gene\")\n",
    "\n",
    "# Export tables\n",
    "write_csv(Total.rh, \"01.DESeq_results/total_og_gene.csv\")\n",
    "print(\"01.DESeq_results/total_og_gene.csv\")\n",
    "write_csv(Total.rh, \"01.DESeq_results/total_rh_gene.csv\")\n",
    "print(\"01.DESeq_results/total_rh_gene.csv\")\n",
    "write_csv(Total.table, \"01.DESeq_results/total_rh_og_gene.csv\")\n",
    "print(\"01.DESeq_results/total_rh_og_gene.csv\")"
   ]
  },
  {
   "cell_type": "code",
   "execution_count": null,
   "id": "5f3e9590-ad6b-4d4e-ae01-3ee2699d7720",
   "metadata": {},
   "outputs": [],
   "source": [
    "\n"
   ]
  }
 ],
 "metadata": {
  "kernelspec": {
   "display_name": "R",
   "language": "R",
   "name": "ir"
  },
  "language_info": {
   "codemirror_mode": "r",
   "file_extension": ".r",
   "mimetype": "text/x-r-source",
   "name": "R",
   "pygments_lexer": "r",
   "version": "4.4.1"
  }
 },
 "nbformat": 4,
 "nbformat_minor": 5
}
