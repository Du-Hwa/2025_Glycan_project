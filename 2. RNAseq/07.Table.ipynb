{
 "cells": [
  {
   "cell_type": "code",
   "execution_count": 6,
   "id": "acdcdd2f-6bb7-40f3-b0b2-b21cb154c9d6",
   "metadata": {},
   "outputs": [],
   "source": [
    "library(tidyverse)"
   ]
  },
  {
   "cell_type": "code",
   "execution_count": 7,
   "id": "96b51cac-d485-4868-8f6e-971970516f32",
   "metadata": {},
   "outputs": [
    {
     "data": {
      "text/html": [
       "<style>\n",
       ".list-inline {list-style: none; margin:0; padding: 0}\n",
       ".list-inline>li {display: inline-block}\n",
       ".list-inline>li:not(:last-child)::after {content: \"\\00b7\"; padding: 0 .5ex}\n",
       "</style>\n",
       "<ol class=list-inline><li>'Gene'</li><li>'Geneabb'</li><li>'Genename'</li><li>'Log2FC_RG_I_30'</li><li>'Padj_RG_I_30'</li><li>'Log2FC_RG_I_90'</li><li>'Padj_RG_I_90'</li><li>'Log2FC_OGs_30'</li><li>'Padj_OGs_30'</li><li>'Log2FC_OGs_90'</li><li>'Padj_OGs_90'</li><li>'GO'</li></ol>\n"
      ],
      "text/latex": [
       "\\begin{enumerate*}\n",
       "\\item 'Gene'\n",
       "\\item 'Geneabb'\n",
       "\\item 'Genename'\n",
       "\\item 'Log2FC\\_RG\\_I\\_30'\n",
       "\\item 'Padj\\_RG\\_I\\_30'\n",
       "\\item 'Log2FC\\_RG\\_I\\_90'\n",
       "\\item 'Padj\\_RG\\_I\\_90'\n",
       "\\item 'Log2FC\\_OGs\\_30'\n",
       "\\item 'Padj\\_OGs\\_30'\n",
       "\\item 'Log2FC\\_OGs\\_90'\n",
       "\\item 'Padj\\_OGs\\_90'\n",
       "\\item 'GO'\n",
       "\\end{enumerate*}\n"
      ],
      "text/markdown": [
       "1. 'Gene'\n",
       "2. 'Geneabb'\n",
       "3. 'Genename'\n",
       "4. 'Log2FC_RG_I_30'\n",
       "5. 'Padj_RG_I_30'\n",
       "6. 'Log2FC_RG_I_90'\n",
       "7. 'Padj_RG_I_90'\n",
       "8. 'Log2FC_OGs_30'\n",
       "9. 'Padj_OGs_30'\n",
       "10. 'Log2FC_OGs_90'\n",
       "11. 'Padj_OGs_90'\n",
       "12. 'GO'\n",
       "\n",
       "\n"
      ],
      "text/plain": [
       " [1] \"Gene\"           \"Geneabb\"        \"Genename\"       \"Log2FC_RG_I_30\"\n",
       " [5] \"Padj_RG_I_30\"   \"Log2FC_RG_I_90\" \"Padj_RG_I_90\"   \"Log2FC_OGs_30\" \n",
       " [9] \"Padj_OGs_30\"    \"Log2FC_OGs_90\"  \"Padj_OGs_90\"    \"GO\"            "
      ]
     },
     "metadata": {},
     "output_type": "display_data"
    }
   ],
   "source": [
    "# Make simple table for analysis\n",
    "Total.table <- read.csv(\"01.DESeq_results/total_rh_og_gene.csv\")\n",
    "Total.simple.table <- Total.table %>%\n",
    "  dplyr::select(Gene, starts_with(\"log2\"), starts_with(\"padj\"))\n",
    "\n",
    "#Import GO database\n",
    "GOdata<-read.csv('Reference/Cleaned_GO_4.csv', sep=';', header=FALSE)\n",
    "GOdata$Gene<-as.character(GOdata$V1)\n",
    "GOdata$V1<-NULL\n",
    "GOdata$geneabb<-as.character(GOdata$V2)\n",
    "GOdata$V2<-NULL\n",
    "GOdata$genename<-as.character(GOdata$V3)\n",
    "GOdata$V3<-NULL\n",
    "GOdata$GO<-as.character(GOdata$V4)\n",
    "GOdata$V4<-NULL\n",
    "\n",
    "Merged.table <- Total.simple.table %>%\n",
    "  left_join(GOdata, by = \"Gene\") %>%\n",
    "  mutate(\n",
    "    geneabb = ifelse(is.na(geneabb), Gene, geneabb),   \n",
    "    genename = ifelse(is.na(genename), \"\", genename),   \n",
    "    GO = ifelse(is.na(GO), \"\", GO)                    \n",
    "  )\n",
    "\n",
    "Merged.table <- Merged.table %>%\n",
    "  dplyr::select(\n",
    "    Gene, geneabb, genename, \n",
    "    log2FoldChange_RHAM_30min, padj_RHAM_30min,\n",
    "    log2FoldChange_RHAM_90min, padj_RHAM_90min, \n",
    "    log2FoldChange_OGs_30min, padj_OGs_30min, \n",
    "    log2FoldChange_OGs_90min, padj_OGs_90min, \n",
    "    GO\n",
    "  )\n",
    "\n",
    "colnames(Merged.table) <- c(\"Gene\", \"Geneabb\", \"Genename\", \n",
    "                            \"Log2FC_RG_I_30\", \"Padj_RG_I_30\", \n",
    "                            \"Log2FC_RG_I_90\",\"Padj_RG_I_90\",\n",
    "                            \"Log2FC_OGs_30\", \"Padj_OGs_30\",\n",
    "                            \"Log2FC_OGs_90\", \"Padj_OGs_90\",\n",
    "                            \"GO\")\n",
    "\n",
    "colnames(Merged.table)"
   ]
  },
  {
   "cell_type": "code",
   "execution_count": 8,
   "id": "99a55fc1-0eb6-4c92-836d-2f1842b548ac",
   "metadata": {},
   "outputs": [
    {
     "data": {
      "text/html": [
       "488"
      ],
      "text/latex": [
       "488"
      ],
      "text/markdown": [
       "488"
      ],
      "text/plain": [
       "[1] 488"
      ]
     },
     "metadata": {},
     "output_type": "display_data"
    },
    {
     "data": {
      "text/html": [
       "939"
      ],
      "text/latex": [
       "939"
      ],
      "text/markdown": [
       "939"
      ],
      "text/plain": [
       "[1] 939"
      ]
     },
     "metadata": {},
     "output_type": "display_data"
    },
    {
     "data": {
      "text/html": [
       "303"
      ],
      "text/latex": [
       "303"
      ],
      "text/markdown": [
       "303"
      ],
      "text/plain": [
       "[1] 303"
      ]
     },
     "metadata": {},
     "output_type": "display_data"
    },
    {
     "name": "stdout",
     "output_type": "stream",
     "text": [
      "[1] \"01.DESeq_results/total_og_gene.csv\"\n",
      "[1] \"01.DESeq_results/total_rh_gene.csv\"\n",
      "[1] \"01.DESeq_results/total_rh_og_gene.csv\"\n"
     ]
    }
   ],
   "source": [
    "#set the threshold\n",
    "Th.lfc2 <- 1\n",
    "Th.padj <- 0.05\n",
    "\n",
    "# Filter the table\n",
    "rh30up <- Merged.table %>%\n",
    "  dplyr::filter(Log2FC_RG_I_30 > Th.lfc2, Padj_RG_I_30 < Th.padj)\n",
    "rh90up <- Merged.table %>%\n",
    "  dplyr::filter(Log2FC_RG_I_90 > Th.lfc2, Padj_RG_I_90 < Th.padj)\n",
    "og30up <- Merged.table %>%\n",
    "  dplyr::filter(Log2FC_OGs_30 > Th.lfc2, Padj_OGs_30 < Th.padj)\n",
    "og90up <- Merged.table %>%\n",
    "  dplyr::filter(Log2FC_OGs_90 > Th.lfc2, Padj_OGs_90 < Th.padj)\n",
    "\n",
    "# rg overlap gene\n",
    "rh_up <- intersect(rh30up$Gene, rh90up$Gene)\n",
    "length(rh_up)\n",
    "\n",
    "rh_up_table <- Merged.table %>%\n",
    "  dplyr::filter( Gene %in% rh_up)\n",
    "\n",
    "# og overlap gene\n",
    "og_up <- intersect(og30up$Gene, og90up$Gene)\n",
    "length(og_up)\n",
    "\n",
    "og_up_table <- Merged.table %>%\n",
    "  dplyr::filter( Gene %in% og_up)\n",
    "\n",
    "# both overlap gene\n",
    "both_up <- intersect(rh_up, og_up)\n",
    "length(both_up)\n",
    "\n",
    "both_up_table <- Merged.table %>%\n",
    "  dplyr::filter( Gene %in% both_up)\n",
    "\n",
    "# Export tables\n",
    "write_csv(rh_up_table, \"07.Table/RG-I_both_up.csv\")\n",
    "print(\"01.DESeq_results/total_og_gene.csv\")\n",
    "write_csv(og_up_table, \"07.Table/OGs_both_up.csv\")\n",
    "print(\"01.DESeq_results/total_rh_gene.csv\")\n",
    "write_csv(both_up_table, \"07.Table/RG-I_OGs_both_up.csv\")\n",
    "print(\"01.DESeq_results/total_rh_og_gene.csv\")\n"
   ]
  },
  {
   "cell_type": "code",
   "execution_count": null,
   "id": "e025ff3a-095c-4439-9245-76ff8c287f26",
   "metadata": {},
   "outputs": [],
   "source": []
  }
 ],
 "metadata": {
  "kernelspec": {
   "display_name": "R",
   "language": "R",
   "name": "ir"
  },
  "language_info": {
   "codemirror_mode": "r",
   "file_extension": ".r",
   "mimetype": "text/x-r-source",
   "name": "R",
   "pygments_lexer": "r",
   "version": "4.4.1"
  }
 },
 "nbformat": 4,
 "nbformat_minor": 5
}
