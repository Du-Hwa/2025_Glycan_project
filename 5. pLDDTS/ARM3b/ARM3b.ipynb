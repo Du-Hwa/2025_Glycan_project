{
 "cells": [
  {
   "cell_type": "code",
   "execution_count": 1,
   "id": "51cfa13b-98f2-419f-9580-c255d38b33d6",
   "metadata": {
    "scrolled": true
   },
   "outputs": [
    {
     "name": "stdout",
     "output_type": "stream",
     "text": [
      "Mean pLDDT for LRR domain (residues 29-413): 89.67\n",
      "Number of residues: 385\n"
     ]
    }
   ],
   "source": [
    "from Bio.PDB import PDBParser\n",
    "\n",
    "parser = PDBParser()\n",
    "structure = parser.get_structure(\"AF\", \"AF-Q9T033-F1-model_v4.pdb\")\n",
    "model = structure[0]\n",
    "chain = model[\"A\"]\n",
    "\n",
    "plddts = []\n",
    "for res in chain:\n",
    "    res_id = res.get_id()[1]\n",
    "    if 29 <= res_id <= 413:  # LRR domain range\n",
    "        if 'CA' in res:\n",
    "            plddts.append(res['CA'].get_bfactor())\n",
    "\n",
    "mean_plddt = sum(plddts) / len(plddts) if plddts else 0\n",
    "print(f\"Mean pLDDT for LRR domain (residues 29-413): {mean_plddt:.2f}\")\n",
    "print(f\"Number of residues: {len(plddts)}\")"
   ]
  },
  {
   "cell_type": "code",
   "execution_count": 2,
   "id": "d7cd14c7-1578-40ee-9785-383047a91d49",
   "metadata": {},
   "outputs": [
    {
     "name": "stdout",
     "output_type": "stream",
     "text": [
      "LRR Domain pLDDT Statistics:\n",
      "Mean: 89.67\n",
      "Std: 12.22\n",
      "Range: 31.11 - 98.00\n",
      "Residues: 385\n"
     ]
    }
   ],
   "source": [
    "from Bio.PDB import PDBParser\n",
    "import numpy as np\n",
    "\n",
    "def calculate_domain_plddt(pdb_file, start_res, end_res, chain_id=\"A\"):\n",
    "    parser = PDBParser(QUIET=True)\n",
    "    structure = parser.get_structure(\"protein\", pdb_file)\n",
    "    \n",
    "    plddts = []\n",
    "    for model in structure:\n",
    "        for chain in model:\n",
    "            if chain.id == chain_id:\n",
    "                for res in chain:\n",
    "                    res_id = res.get_id()[1]\n",
    "                    if start_res <= res_id <= end_res:\n",
    "                        if 'CA' in res:\n",
    "                            plddts.append(res['CA'].get_bfactor())\n",
    "                        else:\n",
    "                            first_atom = list(res.get_atoms())[0]\n",
    "                            plddts.append(first_atom.get_bfactor())\n",
    "    \n",
    "    if plddts:\n",
    "        return {\n",
    "            'mean_plddt': np.mean(plddts),\n",
    "            'std_plddt': np.std(plddts),\n",
    "            'min_plddt': np.min(plddts),\n",
    "            'max_plddt': np.max(plddts),\n",
    "            'n_residues': len(plddts)\n",
    "        }\n",
    "    else:\n",
    "        return None\n",
    "\n",
    "result = calculate_domain_plddt(\"AF-Q9T033-F1-model_v4.pdb\", 29, 413)\n",
    "if result:\n",
    "    print(f\"LRR Domain pLDDT Statistics:\")\n",
    "    print(f\"Mean: {result['mean_plddt']:.2f}\")\n",
    "    print(f\"Std: {result['std_plddt']:.2f}\")\n",
    "    print(f\"Range: {result['min_plddt']:.2f} - {result['max_plddt']:.2f}\")\n",
    "    print(f\"Residues: {result['n_residues']}\")"
   ]
  }
 ],
 "metadata": {
  "kernelspec": {
   "display_name": "Python 3 (ipykernel)",
   "language": "python",
   "name": "python3"
  },
  "language_info": {
   "codemirror_mode": {
    "name": "ipython",
    "version": 3
   },
   "file_extension": ".py",
   "mimetype": "text/x-python",
   "name": "python",
   "nbconvert_exporter": "python",
   "pygments_lexer": "ipython3",
   "version": "3.12.6"
  }
 },
 "nbformat": 4,
 "nbformat_minor": 5
}
