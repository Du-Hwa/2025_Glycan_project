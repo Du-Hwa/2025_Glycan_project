{
 "cells": [
  {
   "cell_type": "code",
   "execution_count": 1,
   "id": "c80fea91-4bcf-4985-990f-a76a1aea4333",
   "metadata": {},
   "outputs": [
    {
     "name": "stdout",
     "output_type": "stream",
     "text": [
      "Total number of headers: 274\n"
     ]
    }
   ],
   "source": [
    "import csv\n",
    "\n",
    "# Read the CSV file and create a dictionary for mapping\n",
    "mapping_file = 'NP_mapping.csv'\n",
    "mapping_dict = {}\n",
    "\n",
    "with open(mapping_file, mode='r') as infile:\n",
    "    reader = csv.reader(infile)\n",
    "    for rows in reader:\n",
    "        mapping_dict[rows[0]] = rows[1]\n",
    "\n",
    "# Input files\n",
    "input_files = [\"AtLRR-RLK.fasta\", \"AtLRR-RLP.fasta\", \"AtLysM-RLK.fasta\", \"AtLysM-RLP.fasta\"]\n",
    "\n",
    "# Output file\n",
    "output_file = \"AtPRRs.fasta\"\n",
    "\n",
    "# Function to replace headers in a FASTA file and write to a combined output file\n",
    "def replace_and_combine_headers(input_files, mapping_dict, output_file):\n",
    "    header_count = 0\n",
    "    with open(output_file, 'w') as outfile:\n",
    "        for input_file in input_files:\n",
    "            with open(input_file, 'r') as infile:\n",
    "                for line in infile:\n",
    "                    if line.startswith('>'):\n",
    "                        header_count += 1\n",
    "                        header = line[1:].strip()\n",
    "                        new_header = mapping_dict.get(header, header)\n",
    "                        outfile.write(f'>{new_header}\\n')\n",
    "                    else:\n",
    "                        outfile.write(line)\n",
    "    print(f\"Total number of headers: {header_count}\")\n",
    "\n",
    "# Replace headers and combine all input files into one output file\n",
    "replace_and_combine_headers(input_files, mapping_dict, output_file)\n"
   ]
  },
  {
   "cell_type": "code",
   "execution_count": null,
   "id": "6c3337c6-8fe4-44b6-afb3-01fb99b9302b",
   "metadata": {},
   "outputs": [],
   "source": []
  }
 ],
 "metadata": {
  "kernelspec": {
   "display_name": "Python 3 (ipykernel)",
   "language": "python",
   "name": "python3"
  },
  "language_info": {
   "codemirror_mode": {
    "name": "ipython",
    "version": 3
   },
   "file_extension": ".py",
   "mimetype": "text/x-python",
   "name": "python",
   "nbconvert_exporter": "python",
   "pygments_lexer": "ipython3",
   "version": "3.9.6"
  }
 },
 "nbformat": 4,
 "nbformat_minor": 5
}
