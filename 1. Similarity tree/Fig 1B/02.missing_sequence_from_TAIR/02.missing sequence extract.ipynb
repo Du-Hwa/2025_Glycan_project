{
 "cells": [
  {
   "cell_type": "code",
   "execution_count": 13,
   "id": "e30ce047-f6ff-41f8-ac95-7194e403ac7c",
   "metadata": {},
   "outputs": [],
   "source": [
    "# read missing seq lst\n",
    "with open('missing_list.txt', 'r') as file:\n",
    "    lines = file.readlines()\n",
    "\n",
    "# remove 0 and #N/A\n",
    "filtered_lines = [line for line in lines if line.strip() not in ('0', '#N/A')]\n",
    "\n",
    "# write on txt\n",
    "with open('missing_list_filtered.txt', 'w') as file:\n",
    "    file.writelines(filtered_lines)\n"
   ]
  },
  {
   "cell_type": "code",
   "execution_count": 14,
   "id": "1ea06a2d-355e-40e2-9ee5-d7e4627a35d3",
   "metadata": {},
   "outputs": [
    {
     "name": "stdout",
     "output_type": "stream",
     "text": [
      "Total 247 sequences have been extracted and saved to extracted_sequences.fasta\n",
      "The following AGI codes were not found in the protein database:\n",
      "AT2G32660.2\n",
      "At3g25020.1\n",
      "At2g42800.1\n",
      "At4g13900.1\n",
      "At2g33080.1\n",
      "At4g04220.1\n"
     ]
    }
   ],
   "source": [
    "def read_agi_list(filename):\n",
    "    \"\"\"Reads a list of AGI codes from a file.\"\"\"\n",
    "    with open(filename, 'r') as file:\n",
    "        agi_list = [line.strip() for line in file if line.strip()]\n",
    "    return agi_list\n",
    "\n",
    "def extract_sequences(agi_list, protein_db_filename, output_filename):\n",
    "    \"\"\"Extracts sequences from the protein database for the given AGI codes in FASTA format.\"\"\"\n",
    "    with open(protein_db_filename, 'r') as db_file:\n",
    "        lines = db_file.readlines()\n",
    "\n",
    "    extracted_sequences = []\n",
    "    current_sequence = []\n",
    "    recording = False\n",
    "    extracted_count = 0\n",
    "\n",
    "    for line in lines:\n",
    "        if line.startswith('>'):\n",
    "            if recording:\n",
    "                extracted_sequences.append(''.join(current_sequence))\n",
    "                current_sequence = []\n",
    "                recording = False\n",
    "                extracted_count += 1\n",
    "            agi_code = line.split()[0][1:]  # Extract AGI code from header\n",
    "            if agi_code in agi_list:\n",
    "                # Edit header to only contain AGI code\n",
    "                line = f\">{agi_code}\\n\"\n",
    "                extracted_sequences.append(line)  # Add edited header to result\n",
    "                recording = True\n",
    "        elif recording:\n",
    "            current_sequence.append(line)\n",
    "\n",
    "    if recording:\n",
    "        extracted_sequences.append(''.join(current_sequence))\n",
    "        extracted_count += 1\n",
    "\n",
    "    with open(output_filename, 'w') as output_file:\n",
    "        output_file.writelines(extracted_sequences)\n",
    "\n",
    "    print(f\"Total {extracted_count} sequences have been extracted and saved to {output_filename}\")\n",
    "\n",
    "    # find missing AGI codes\n",
    "    missing_agi_codes = set(agi_list) - {line.split()[0][1:] for line in extracted_sequences if line.startswith('>')}\n",
    "    if missing_agi_codes:\n",
    "        print(\"The following AGI codes were not found in the protein database:\")\n",
    "        for agi_code in missing_agi_codes:\n",
    "            print(agi_code)\n",
    "\n",
    "agi_list_filename = 'missing_list_filtered.txt'\n",
    "protein_db_filename = 'TAIR10_pep_20101214'\n",
    "output_filename = 'extracted_sequences.fasta'\n",
    "\n",
    "# read AGI code\n",
    "agi_list = read_agi_list(agi_list_filename)\n",
    "\n",
    "# extract sequence according to AGI code\n",
    "extract_sequences(agi_list, protein_db_filename, output_filename)\n"
   ]
  },
  {
   "cell_type": "code",
   "execution_count": 9,
   "id": "e099362d-e34b-44c5-ab88-e7e5716b11da",
   "metadata": {},
   "outputs": [
    {
     "name": "stdout",
     "output_type": "stream",
     "text": [
      "CSV Headers: ['\\ufeffGene_ID', 'Major_splicing_variants', 'Seq_info', 'missing_seq_index']\n"
     ]
    }
   ],
   "source": [
    "import csv\n",
    "\n",
    "def check_csv_headers(file_path):\n",
    "    with open(file_path, 'r', newline='') as csvfile:\n",
    "        reader = csv.reader(csvfile)\n",
    "        headers = next(reader)  \n",
    "        print(\"CSV Headers:\", headers)\n",
    "\n",
    "check_csv_headers('missing_check.csv')\n"
   ]
  },
  {
   "cell_type": "code",
   "execution_count": 10,
   "id": "903e24b2-434e-40ac-94a0-31100f828338",
   "metadata": {},
   "outputs": [
    {
     "name": "stdout",
     "output_type": "stream",
     "text": [
      "Gene IDs saved in sequence_not_available_list.txt: 14\n"
     ]
    }
   ],
   "source": [
    "import csv\n",
    "\n",
    "def main():\n",
    "    input_file = 'missing_check.csv'\n",
    "    output_file = 'sequence_not_available_list.txt'\n",
    "    \n",
    "    gene_ids = []\n",
    "\n",
    "    # Read csv file\n",
    "    with open(input_file, 'r', newline='') as csvfile:\n",
    "        reader = csv.DictReader(csvfile)\n",
    "        for row in reader:\n",
    "            # change header name accoring to csv\n",
    "            if row['Major_splicing_variants'] == '#N/A' and row['Seq_info'] == '#N/A' and row['missing_seq_index'] == '#N/A':\n",
    "                gene_ids.append(row['\\ufeffGene_ID'])\n",
    "    \n",
    "    # save results\n",
    "    with open(output_file, 'w') as file:\n",
    "        for gene_id in gene_ids:\n",
    "            file.write(gene_id + '\\n')\n",
    "    \n",
    "    # print results\n",
    "    print(f\"Gene IDs saved in {output_file}: {len(gene_ids)}\")\n",
    "\n",
    "if __name__ == \"__main__\":\n",
    "    main()\n"
   ]
  },
  {
   "cell_type": "code",
   "execution_count": null,
   "id": "9b9d4867-d4a6-4b02-b5ad-8068cc6e5084",
   "metadata": {},
   "outputs": [],
   "source": []
  }
 ],
 "metadata": {
  "kernelspec": {
   "display_name": "Python 3 (ipykernel)",
   "language": "python",
   "name": "python3"
  },
  "language_info": {
   "codemirror_mode": {
    "name": "ipython",
    "version": 3
   },
   "file_extension": ".py",
   "mimetype": "text/x-python",
   "name": "python",
   "nbconvert_exporter": "python",
   "pygments_lexer": "ipython3",
   "version": "3.9.6"
  }
 },
 "nbformat": 4,
 "nbformat_minor": 5
}
