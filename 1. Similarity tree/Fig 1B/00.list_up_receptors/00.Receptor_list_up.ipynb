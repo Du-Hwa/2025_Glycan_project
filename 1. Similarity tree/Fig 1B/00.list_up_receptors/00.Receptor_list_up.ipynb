{
 "cells": [
  {
   "cell_type": "code",
   "execution_count": 2,
   "id": "e3724145-d1b1-4afd-9c1e-e67b62912993",
   "metadata": {},
   "outputs": [
    {
     "name": "stdout",
     "output_type": "stream",
     "text": [
      "Unique AGI codes count: 520\n"
     ]
    }
   ],
   "source": [
    "## Read AGI code from Total receptor list\n",
    "def process_agi_codes(file_path):\n",
    "    with open(file_path, 'r') as file:\n",
    "        # Change the AGI code with uppercase\n",
    "        agi_codes = {line.strip().upper() for line in file}\n",
    "\n",
    "    # List up unique AGI code\n",
    "    unique_agi_codes = sorted(agi_codes)\n",
    "    return unique_agi_codes\n",
    "\n",
    "## Save result and print counts\n",
    "def main():\n",
    "    input_file = 'Total_receptor_list.txt'\n",
    "    unique_agi_codes = process_agi_codes(input_file)\n",
    "    \n",
    "    # Save result\n",
    "    with open('Unique_Total_receptor_list.txt', 'w') as output_file:\n",
    "        for code in unique_agi_codes:\n",
    "            output_file.write(code + '\\n')\n",
    "    \n",
    "    # Print unique AGI code count\n",
    "    print(f\"Unique AGI codes count: {len(unique_agi_codes)}\")\n",
    "\n",
    "if __name__ == \"__main__\":\n",
    "    main()\n"
   ]
  },
  {
   "cell_type": "code",
   "execution_count": 3,
   "id": "92344451-afac-47fa-8aaa-1285ceea2178",
   "metadata": {},
   "outputs": [
    {
     "name": "stdout",
     "output_type": "stream",
     "text": [
      "Unique AGI codes count: 447\n"
     ]
    }
   ],
   "source": [
    "## Read AGI code from cloning\n",
    "def process_agi_codes(file_path):\n",
    "    with open(file_path, 'r') as file:\n",
    "        # Change the AGI code with uppercase\n",
    "        agi_codes = {line.strip().upper() for line in file}\n",
    "\n",
    "    # List up unique AGI code\n",
    "    unique_agi_codes = sorted(agi_codes)\n",
    "    return unique_agi_codes\n",
    "\n",
    "## Save result and print counts\n",
    "def main():\n",
    "    input_file = 'Cloning_list.txt'\n",
    "    output_file = 'Unique_Cloning_list.txt'\n",
    "    unique_agi_codes = process_agi_codes(input_file)\n",
    "    \n",
    "    # Save result\n",
    "    with open(output_file, 'w') as file:\n",
    "        for code in unique_agi_codes:\n",
    "            file.write(code + '\\n')\n",
    "    \n",
    "    # Print unique AGI code count\n",
    "    print(f\"Unique AGI codes count: {len(unique_agi_codes)}\")\n",
    "\n",
    "if __name__ == \"__main__\":\n",
    "    main()\n"
   ]
  },
  {
   "cell_type": "code",
   "execution_count": 5,
   "id": "fa9b3cfd-c1d7-40fd-afa4-44a905739cd6",
   "metadata": {},
   "outputs": [
    {
     "name": "stdout",
     "output_type": "stream",
     "text": [
      "AGI codes in Unique_Cloning_list.txt but not in Unique_Total_receptor_list.txt:\n",
      "AT1G07650\n",
      "AT1G10850\n",
      "AT1G11130\n",
      "AT1G28340\n",
      "AT1G34290\n",
      "AT1G51805\n",
      "AT1G56145\n",
      "AT1G69040\n",
      "AT1G80080\n",
      "AT2G41140\n",
      "AT2G42800\n",
      "AT3G49750\n",
      "AT4G13900\n",
      "AT4G18760\n",
      "AT4G23230\n",
      "AT4G32285\n",
      "AT5G65830\n"
     ]
    }
   ],
   "source": [
    "def read_agi_codes(file_path):\n",
    "    with open(file_path, 'r') as file:\n",
    "        # Change the AGI code with uppercase\n",
    "        agi_codes = {line.strip().upper() for line in file}\n",
    "    return agi_codes\n",
    "\n",
    "def main():\n",
    "    total_receptor_file = 'Unique_Total_receptor_list.txt'\n",
    "    cloning_file = 'Unique_Cloning_list.txt'\n",
    "    \n",
    "    total_receptor_agi_codes = read_agi_codes(total_receptor_file)\n",
    "    cloning_agi_codes = read_agi_codes(cloning_file)\n",
    "    \n",
    "    # AGI code in Unique_Cloning_list.txt but not in Unique_Total_receptor_list.txt\n",
    "    difference_agi_codes = cloning_agi_codes - total_receptor_agi_codes\n",
    "    \n",
    "    # Print the above AGI codes\n",
    "    print(\"AGI codes in Unique_Cloning_list.txt but not in Unique_Total_receptor_list.txt:\")\n",
    "    for code in sorted(difference_agi_codes):\n",
    "        print(code)\n",
    "\n",
    "if __name__ == \"__main__\":\n",
    "    main()\n"
   ]
  },
  {
   "cell_type": "code",
   "execution_count": 6,
   "id": "ec10f773-9303-463b-91e1-16b2caf69dcc",
   "metadata": {},
   "outputs": [
    {
     "name": "stdout",
     "output_type": "stream",
     "text": [
      "AGI codes added to combine_list.txt: 17\n"
     ]
    }
   ],
   "source": [
    "def read_agi_codes(file_path):\n",
    "    with open(file_path, 'r') as file:\n",
    "        # Change the AGI code with uppercase\n",
    "        agi_codes = {line.strip().upper() for line in file}\n",
    "    return agi_codes\n",
    "\n",
    "def main():\n",
    "    total_receptor_file = 'Unique_Total_receptor_list.txt'\n",
    "    cloning_file = 'Unique_Cloning_list.txt'\n",
    "    output_file = 'combine_list.txt'\n",
    "    \n",
    "    total_receptor_agi_codes = read_agi_codes(total_receptor_file)\n",
    "    cloning_agi_codes = read_agi_codes(cloning_file)\n",
    "    \n",
    "    # set AGI code in Unique_Cloning_list.txt but not in Unique_Total_receptor_list.txt as difference_agi_codes\n",
    "    difference_agi_codes = cloning_agi_codes - total_receptor_agi_codes\n",
    "    \n",
    "    # Combine both AGI code list into combine_list (Unique_Total_receptor_list.txt + difference_agi_codes)\n",
    "    combined_agi_codes = total_receptor_agi_codes.union(difference_agi_codes)\n",
    "    \n",
    "    # Save result\n",
    "    with open(output_file, 'w') as file:\n",
    "        for code in sorted(combined_agi_codes):\n",
    "            file.write(code + '\\n')\n",
    "    \n",
    "    # Print added counts of difference_agi_codes\n",
    "    print(f\"AGI codes added to {output_file}: {len(difference_agi_codes)}\")\n",
    "\n",
    "if __name__ == \"__main__\":\n",
    "    main()\n"
   ]
  },
  {
   "cell_type": "code",
   "execution_count": 7,
   "id": "6cee001f-91a4-48a1-b96a-bb73da8ca611",
   "metadata": {},
   "outputs": [
    {
     "name": "stdout",
     "output_type": "stream",
     "text": [
      "AGI codes saved in Final_receptor_list.txt: 532\n"
     ]
    }
   ],
   "source": [
    "def read_agi_codes(file_path):\n",
    "    with open(file_path, 'r') as file:\n",
    "        # Change the AGI code with uppercase\n",
    "        agi_codes = {line.strip().upper() for line in file}\n",
    "    return agi_codes\n",
    "\n",
    "def main():\n",
    "    combine_file = 'combine_list.txt'\n",
    "    final_output_file = 'Final_receptor_list.txt'\n",
    "    \n",
    "    # Exclude AGI codes\n",
    "    exclude_codes = {\"AT1G80870\", \"AT5G60080\", \"AT5G60090\", \"AT4G32285\", \"AT1G69040\"}\n",
    "    \n",
    "    # Read AGI codes from combine_list.txt\n",
    "    combined_agi_codes = read_agi_codes(combine_file)\n",
    "    \n",
    "    # remove AGI codes\n",
    "    final_agi_codes = combined_agi_codes - exclude_codes\n",
    "    \n",
    "    # Save result\n",
    "    with open(final_output_file, 'w') as file:\n",
    "        for code in sorted(final_agi_codes):\n",
    "            file.write(code + '\\n')\n",
    "    \n",
    "    # print final AGI code counts\n",
    "    print(f\"AGI codes saved in {final_output_file}: {len(final_agi_codes)}\")\n",
    "\n",
    "if __name__ == \"__main__\":\n",
    "    main()\n"
   ]
  },
  {
   "cell_type": "code",
   "execution_count": null,
   "id": "4e9dba65-4411-4c1a-9251-6d108f5c861e",
   "metadata": {},
   "outputs": [],
   "source": []
  }
 ],
 "metadata": {
  "kernelspec": {
   "display_name": "Python 3 (ipykernel)",
   "language": "python",
   "name": "python3"
  },
  "language_info": {
   "codemirror_mode": {
    "name": "ipython",
    "version": 3
   },
   "file_extension": ".py",
   "mimetype": "text/x-python",
   "name": "python",
   "nbconvert_exporter": "python",
   "pygments_lexer": "ipython3",
   "version": "3.9.6"
  }
 },
 "nbformat": 4,
 "nbformat_minor": 5
}
