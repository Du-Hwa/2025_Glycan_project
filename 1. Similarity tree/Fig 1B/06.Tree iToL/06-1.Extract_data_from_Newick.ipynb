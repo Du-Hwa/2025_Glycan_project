{
 "cells": [
  {
   "cell_type": "code",
   "execution_count": 1,
   "id": "e3fe5803-6c24-4eb3-9468-08d4193920d8",
   "metadata": {},
   "outputs": [
    {
     "name": "stdout",
     "output_type": "stream",
     "text": [
      "Ordered protein sequences have been written to datafiles/ordered_proteins.fasta\n"
     ]
    }
   ],
   "source": [
    "from Bio import Phylo, SeqIO\n",
    "\n",
    "# Phylogenetic tree load (Newick format)\n",
    "tree = Phylo.read(\"datafiles/muscle-I20240610-105518-0257-60243362-p1m.phylotree\", \"newick\")\n",
    "\n",
    "# Load Protein seq\n",
    "protein_seqs = SeqIO.to_dict(SeqIO.parse(\"datafiles/muscle-I20240610-105518-0257-60243362-p1m.fa\", \"fasta\"))\n",
    "\n",
    "# Extract protein order\n",
    "ordered_proteins = []\n",
    "for leaf in tree.get_terminals():\n",
    "    seq_id = leaf.name\n",
    "    if seq_id in protein_seqs:\n",
    "        ordered_proteins.append(protein_seqs[seq_id])\n",
    "\n",
    "# Save\n",
    "output_file = \"datafiles/ordered_proteins.fasta\"\n",
    "with open(output_file, \"w\") as output_handle:\n",
    "    SeqIO.write(ordered_proteins, output_handle, \"fasta\")\n",
    "\n",
    "print(f\"Ordered protein sequences have been written to {output_file}\")\n"
   ]
  },
  {
   "cell_type": "code",
   "execution_count": 2,
   "id": "66b91814-d2e9-4018-a418-ec4ef2814d16",
   "metadata": {},
   "outputs": [
    {
     "name": "stdout",
     "output_type": "stream",
     "text": [
      "Ordered protein names have been written to datafiles/ordered_proteins.txt\n"
     ]
    }
   ],
   "source": [
    "from Bio import Phylo\n",
    "\n",
    "# Phylogenetic tree load (Newick format)\n",
    "tree = Phylo.read(\"datafiles/muscle-I20240610-105518-0257-60243362-p1m.phylotree\", \"newick\")\n",
    "\n",
    "# Load Protein seq\n",
    "ordered_proteins = []\n",
    "for leaf in tree.get_terminals():\n",
    "    seq_id = leaf.name\n",
    "    ordered_proteins.append(seq_id)\n",
    "\n",
    "# Save the extracted protein orders in the text file\n",
    "output_file = \"datafiles/ordered_proteins.txt\"\n",
    "with open(output_file, \"w\") as output_handle:\n",
    "    for protein in ordered_proteins:\n",
    "        output_handle.write(protein + \"\\n\")\n",
    "\n",
    "print(f\"Ordered protein names have been written to {output_file}\")\n"
   ]
  },
  {
   "cell_type": "code",
   "execution_count": 3,
   "id": "bd315605-e447-4733-a174-a268d55a7cd0",
   "metadata": {},
   "outputs": [
    {
     "name": "stdout",
     "output_type": "stream",
     "text": [
      "CSV file has been written to datafiles/ordered_proteins.csv\n"
     ]
    }
   ],
   "source": [
    "import csv\n",
    "\n",
    "# Read protein list\n",
    "input_file = \"datafiles/ordered_proteins.txt\"\n",
    "with open(input_file, \"r\") as file:\n",
    "    protein_names = [line.strip() for line in file]\n",
    "\n",
    "# Generate CSV file\n",
    "output_file = \"datafiles/ordered_proteins.csv\"\n",
    "with open(output_file, \"w\", newline='') as csvfile:\n",
    "    fieldnames = [\"Tree_order\", \"Gene\", \"Protein\"]\n",
    "    writer = csv.DictWriter(csvfile, fieldnames=fieldnames)\n",
    "\n",
    "    writer.writeheader()\n",
    "    for i, protein in enumerate(protein_names, start=1):\n",
    "        gene = protein.split('.')[0]  # '.' extract former letters\n",
    "        writer.writerow({\"Tree_order\": i, \"Gene\": gene, \"Protein\": protein})\n",
    "\n",
    "print(f\"CSV file has been written to {output_file}\")\n"
   ]
  },
  {
   "cell_type": "code",
   "execution_count": 4,
   "id": "84366aae-80f9-4ea8-845c-b5af99132dd1",
   "metadata": {},
   "outputs": [
    {
     "name": "stdout",
     "output_type": "stream",
     "text": [
      "CSV file has been written to datafiles/ordered_proteins.csv\n",
      "RLK count: 436\n",
      "RLP count: 52\n"
     ]
    }
   ],
   "source": [
    "import csv\n",
    "\n",
    "# read RLK_list\n",
    "rlk_list_file = \"datafiles/RLK_list.txt\"\n",
    "with open(rlk_list_file, \"r\") as file:\n",
    "    rlk_genes = set(line.strip().upper() for line in file)\n",
    "\n",
    "# read protein names\n",
    "input_file = \"datafiles/ordered_proteins.txt\"\n",
    "with open(input_file, \"r\") as file:\n",
    "    protein_names = [line.strip() for line in file]\n",
    "\n",
    "# counting setting\n",
    "rlk_count = 0\n",
    "rlp_count = 0\n",
    "\n",
    "# write csv\n",
    "output_file = \"datafiles/ordered_proteins.csv\"\n",
    "with open(output_file, \"w\", newline='') as csvfile:\n",
    "    fieldnames = [\"Tree_order\", \"Gene\", \"Protein\", \"Type\"]\n",
    "    writer = csv.DictWriter(csvfile, fieldnames=fieldnames)\n",
    "\n",
    "    writer.writeheader()\n",
    "    for i, protein in enumerate(protein_names, start=1):\n",
    "        gene = protein.split('.')[0].upper() \n",
    "        if gene in rlk_genes:\n",
    "            gene_type = \"RLK\"\n",
    "            rlk_count += 1\n",
    "        else:\n",
    "            gene_type = \"RLP\"\n",
    "            rlp_count += 1\n",
    "        writer.writerow({\"Tree_order\": i, \"Gene\": gene, \"Protein\": protein, \"Type\": gene_type})\n",
    "\n",
    "print(f\"CSV file has been written to {output_file}\")\n",
    "print(f\"RLK count: {rlk_count}\")\n",
    "print(f\"RLP count: {rlp_count}\")\n"
   ]
  },
  {
   "cell_type": "code",
   "execution_count": 5,
   "id": "bb8dc71f-ce72-4bd4-968d-7c46500134f8",
   "metadata": {},
   "outputs": [
    {
     "name": "stdout",
     "output_type": "stream",
     "text": [
      "Result saved to datafiles/ordered_proteins_1.csv\n"
     ]
    }
   ],
   "source": [
    "import pandas as pd\n",
    "\n",
    "# Read ordered_proteins.csv \n",
    "ordered_proteins_file = \"datafiles/ordered_proteins.csv\"\n",
    "ordered_proteins_df = pd.read_csv(ordered_proteins_file)\n",
    "\n",
    "# Read class.csv \n",
    "class_file = \"datafiles/class.csv\"\n",
    "class_df = pd.read_csv(class_file)\n",
    "\n",
    "# Merge by Gene to make Class column\n",
    "merged_df = pd.merge(ordered_proteins_df, class_df, on=\"Gene\", how=\"left\")\n",
    "\n",
    "# NaN > \"Unknown\"\n",
    "merged_df[\"Class\"] = merged_df[\"Class\"].fillna(\"Unknown\")\n",
    "\n",
    "# Write csv\n",
    "output_file = \"datafiles/ordered_proteins_1.csv\"\n",
    "merged_df.to_csv(output_file, index=False)\n",
    "\n",
    "print(f\"Result saved to {output_file}\")\n"
   ]
  },
  {
   "cell_type": "code",
   "execution_count": 45,
   "id": "e73592d5-2d28-4546-b6b3-86e0e0a52b8d",
   "metadata": {},
   "outputs": [
    {
     "name": "stdout",
     "output_type": "stream",
     "text": [
      "Number of 'Unknown' classes: 0\n",
      "Genes with 'Unknown' class:\n"
     ]
    }
   ],
   "source": [
    "import pandas as pd\n",
    "\n",
    "# Read ordered_proteins_1.csv\n",
    "file_path = \"datafiles/ordered_proteins_1.csv\"\n",
    "df = pd.read_csv(file_path)\n",
    "\n",
    "# Count Unknown number\n",
    "unknown_count = (df[\"Class\"] == \"Unknown\").sum()\n",
    "\n",
    "print(f\"Number of 'Unknown' classes: {unknown_count}\")\n",
    "\n",
    "print(\"Genes with 'Unknown' class:\")\n",
    "unknown_genes = df.loc[df[\"Class\"] == \"Unknown\", \"Gene\"].unique()\n",
    "for gene in unknown_genes:\n",
    "    print(gene)\n"
   ]
  },
  {
   "cell_type": "code",
   "execution_count": 6,
   "id": "7bab9c29-88cc-4566-a366-ed02d0226e3b",
   "metadata": {},
   "outputs": [
    {
     "name": "stdout",
     "output_type": "stream",
     "text": [
      "Header data saved to datafiles/TAIR_header_ordered_proteins.txt\n"
     ]
    }
   ],
   "source": [
    "from Bio import SeqIO\n",
    "\n",
    "# read ordered_proteins.txt\n",
    "with open(\"datafiles/ordered_proteins.txt\") as f:\n",
    "    protein_list = [line.strip() for line in f]\n",
    "\n",
    "# make list for saving\n",
    "header_data = []\n",
    "\n",
    "# pasing fasta file and extract header \n",
    "fasta_file = \"datafiles/TAIR10_pep_20110103_representative_gene_model\"\n",
    "for record in SeqIO.parse(fasta_file, \"fasta\"):\n",
    "    protein_id = record.id\n",
    "    \n",
    "    if protein_id in protein_list:\n",
    "        header_data.append(record.description)\n",
    "\n",
    "# save header data into the file\n",
    "output_file = \"datafiles/TAIR_header_ordered_proteins.txt\"\n",
    "with open(output_file, \"w\") as f:\n",
    "    for header in header_data:\n",
    "        f.write(f\"{header}\\n\")\n",
    "\n",
    "print(f\"Header data saved to {output_file}\")\n"
   ]
  },
  {
   "cell_type": "code",
   "execution_count": 38,
   "id": "337f7af8-c90e-47aa-a967-32707c4c8d67",
   "metadata": {},
   "outputs": [
    {
     "name": "stdout",
     "output_type": "stream",
     "text": [
      "csv file saved\n"
     ]
    }
   ],
   "source": [
    "import csv\n",
    "\n",
    "# extract protein ID from ordered_proteins.txt\n",
    "def get_protein_ids(file_path):\n",
    "    with open(file_path, 'r') as f:\n",
    "        protein_ids = [line.strip() for line in f]\n",
    "    return protein_ids\n",
    "\n",
    "# extract symbol from TAIR_header_ordered_proteins.txt\n",
    "def get_symbols(file_path, protein_ids):\n",
    "    symbols_dict = {}\n",
    "    with open(file_path, 'r') as f:\n",
    "        for line in f:\n",
    "            line_parts = line.strip().split(' | ')\n",
    "            protein_id = line_parts[0]\n",
    "            if protein_id in protein_ids:\n",
    "                symbols = line_parts[1].split(': ')[1].split(', ')\n",
    "                symbols_dict[protein_id] = symbols\n",
    "    return symbols_dict\n",
    "\n",
    "# extract protein ID from ordered_proteins.txt\n",
    "protein_ids = get_protein_ids('datafiles/ordered_proteins.txt')\n",
    "\n",
    "# pasing protein symbol from TAIR_header_ordered_proteins.txt\n",
    "symbols_dict = get_symbols('datafiles/TAIR_header_ordered_proteins.txt', protein_ids)\n",
    "\n",
    "# write csv\n",
    "with open('datafiles/TAIR_Symbol_ordered_proteins.csv', 'w', newline='') as csvfile:\n",
    "    writer = csv.writer(csvfile)\n",
    "    writer.writerow(['Gene', 'Protein', 'Symbols'])  # 헤더 작성\n",
    "    for protein_id in protein_ids:\n",
    "        gene = protein_id[:9]  # 앞 9자를 Gene 열에 추가\n",
    "        symbols = ', '.join(symbols_dict.get(protein_id, ['N/A']))\n",
    "        writer.writerow([gene, protein_id, symbols])\n",
    "\n",
    "print(f\"csv file saved\")\n"
   ]
  },
  {
   "cell_type": "code",
   "execution_count": 39,
   "id": "337d96d8-6ba3-46c9-a295-bdc83bf35c43",
   "metadata": {},
   "outputs": [
    {
     "name": "stdout",
     "output_type": "stream",
     "text": [
      "New file 'TAIR_Batch_symbol_ordered_proteins.csv' created successfully!\n"
     ]
    }
   ],
   "source": [
    "# Merge Batch_Symbols.csv with TAIR_Symbols and save as TAIR_Batch ~\n",
    "import pandas as pd\n",
    "\n",
    "df_main = pd.read_csv(\"datafiles/TAIR_Symbol_ordered_proteins.csv\")\n",
    "\n",
    "df_additional = pd.read_csv(\"datafiles/Batch_Symbols.csv\")\n",
    "\n",
    "df_merged = pd.merge(df_main, df_additional, on='Gene', how='left')\n",
    "\n",
    "df_merged = df_merged.loc[:,~df_merged.columns.duplicated()]\n",
    "\n",
    "df_merged.to_csv(\"datafiles/TAIR_Batch_symbol_ordered_proteins.csv\", index=False)\n",
    "\n",
    "print(\"New file 'TAIR_Batch_symbol_ordered_proteins.csv' created successfully!\")\n"
   ]
  },
  {
   "cell_type": "code",
   "execution_count": 40,
   "id": "9bc5acb1-a9a5-412a-ab00-ce80954ab744",
   "metadata": {},
   "outputs": [
    {
     "name": "stdout",
     "output_type": "stream",
     "text": [
      "New file 'TAIR_Batch_Ex_symbol_ordered_proteins.csv' created successfully!\n"
     ]
    }
   ],
   "source": [
    "# Merge Expression_Symbols.csv with TAIR_Batch_Symbols and save as TAIR_Batch_Ex ~\n",
    "import pandas as pd\n",
    "\n",
    "df_merged = pd.read_csv(\"datafiles/TAIR_Batch_symbol_ordered_proteins.csv\")\n",
    "\n",
    "df_expression = pd.read_csv(\"datafiles/Expression_Symbols.csv\")\n",
    "\n",
    "df_final = pd.merge(df_merged, df_expression, on='Gene', how='left')\n",
    "\n",
    "df_final = df_final.loc[:, ~df_final.columns.duplicated()]\n",
    "\n",
    "df_final = df_final.rename(columns={'Expression_name': 'Expression_Symbol'})\n",
    "\n",
    "df_final.to_csv(\"datafiles/TAIR_Batch_Ex_symbol_ordered_proteins.csv\", index=False)\n",
    "\n",
    "print(\"New file 'TAIR_Batch_Ex_symbol_ordered_proteins.csv' created successfully!\")\n"
   ]
  },
  {
   "cell_type": "code",
   "execution_count": 41,
   "id": "1b27ec4a-3453-4356-ad10-ad264f01b32c",
   "metadata": {},
   "outputs": [
    {
     "name": "stdout",
     "output_type": "stream",
     "text": [
      "Protein_name has been added to ordered_proteins_1.csv file.\n"
     ]
    }
   ],
   "source": [
    "import pandas as pd\n",
    "\n",
    "df_ordered_proteins = pd.read_csv(\"datafiles/ordered_proteins_1.csv\")\n",
    "\n",
    "df_annotation = pd.read_csv(\"datafiles/Final_annotation.csv\")\n",
    "\n",
    "df_merged = pd.merge(df_ordered_proteins, df_annotation[['Gene', 'Protein_name']], on='Gene', how='left')\n",
    "\n",
    "df_merged.to_csv(\"ordered_proteins_1.csv\", index=False)\n",
    "\n",
    "print(\"Protein_name has been added to ordered_proteins_1.csv file.\")\n"
   ]
  },
  {
   "cell_type": "code",
   "execution_count": 13,
   "id": "fb6221f9-c8fb-4bfc-8385-5a605f659335",
   "metadata": {},
   "outputs": [
    {
     "name": "stdout",
     "output_type": "stream",
     "text": [
      "Index(['Protein', 'Signal peptide', 'ECD start', 'ECD end', 'TM', 'Cytoplasm'], dtype='object')\n",
      "The following proteins are in the CSV but not in the TXT file:\n",
      "AT3G13690.1\n",
      "AT1G70740.1\n",
      "AT3G46760.1\n",
      "AT4G23240.1\n",
      "AT4G00960.1\n",
      "AT1G51620.1\n",
      "AT1G55200.1\n",
      "AT5G15730.1\n",
      "AT3G25490.1\n",
      "AT5G41680.1\n",
      "AT5G07620.1\n",
      "AT5G54590.2\n",
      "AT3G51990.1\n",
      "AT5G61570.1\n",
      "AT5G23170.1\n",
      "AT5G42440.1\n",
      "AT1G54820.1\n",
      "AT2G32800.1\n",
      "AT3G58690.1\n",
      "AT5G56790.1\n",
      "AT3G46410.1\n",
      "AT1G70450.1\n",
      "AT3G09010.1\n",
      "AT2G41140.1\n",
      "AT1G28390.1\n",
      "AT3G57120.1\n",
      "AT5G13290.1\n",
      "AT4G11890.3\n",
      "AT1G78530.1\n",
      "AT1G16670.1\n"
     ]
    }
   ],
   "source": [
    "# Sort domain_prediction.csv by ordered_proteins.txt\n",
    "\n",
    "import pandas as pd\n",
    "\n",
    "ordered_proteins_path = 'datafiles/ordered_proteins.txt'\n",
    "domain_prediction_path = 'datafiles/domain_prediction.csv'\n",
    "output_path = 'datafiles/sorted_domain_prediction.csv'\n",
    "\n",
    "# read ordered_proteins.txt\n",
    "with open(ordered_proteins_path, 'r') as file:\n",
    "    ordered_proteins = file.read().splitlines()\n",
    "\n",
    "# read domain_prediction.csv\n",
    "domain_df = pd.read_csv(domain_prediction_path)\n",
    "\n",
    "protein_column_name = 'Protein' \n",
    "\n",
    "# read Protein column list\n",
    "proteins_in_csv = domain_df[protein_column_name].tolist()\n",
    "\n",
    "# check missing proteins in csv\n",
    "missing_proteins = set(proteins_in_csv) - set(ordered_proteins)\n",
    "if missing_proteins:\n",
    "    print(\"The following proteins are in the CSV but not in the TXT file:\")\n",
    "    for protein in missing_proteins:\n",
    "        print(protein)\n",
    "\n",
    "missing_in_csv = set(ordered_proteins) - set(proteins_in_csv)\n",
    "if missing_in_csv:\n",
    "    print(\"The following proteins are in the TXT file but not in the CSV file:\")\n",
    "    for protein in missing_in_csv:\n",
    "        print(protein)\n",
    "\n",
    "# sort csv file by ordered_proteins.txt\n",
    "sorted_domain_df = domain_df.set_index(protein_column_name).reindex(ordered_proteins + list(missing_proteins)).reset_index()\n",
    "\n",
    "# write csv\n",
    "sorted_domain_df.to_csv(output_path, index=False, sep=',')\n"
   ]
  },
  {
   "cell_type": "code",
   "execution_count": 16,
   "id": "41a1fc9a-4494-47d2-a31a-9cc2ff15279c",
   "metadata": {},
   "outputs": [],
   "source": [
    "import pandas as pd\n",
    "\n",
    "# set the file path\n",
    "sorted_domain_prediction_path = 'datafiles/sorted_domain_prediction.csv'\n",
    "ordered_proteins_1_path = 'datafiles/ordered_proteins_1.csv'\n",
    "output_path = 'datafiles/merged_sorted_domain_prediction.csv'\n",
    "\n",
    "# read CSV\n",
    "sorted_domain_df = pd.read_csv(sorted_domain_prediction_path, sep=',')\n",
    "ordered_proteins_1_df = pd.read_csv(ordered_proteins_1_path, sep=',')\n",
    "\n",
    "# merge two dataframes by Protein column\n",
    "merged_df = pd.merge(sorted_domain_df, ordered_proteins_1_df, on='Protein', how='left')\n",
    "\n",
    "# reorder columns\n",
    "column_order = ['Tree_order','Gene', 'Protein', 'Protein_name', 'Type', 'Class', 'Signal_peptide', 'ECD_start', 'ECD_end', 'TM', 'Cytoplasm']\n",
    "merged_df = merged_df[column_order]\n",
    "\n",
    "# save csv\n",
    "merged_df.to_csv(output_path, index=False, sep=',')\n"
   ]
  },
  {
   "cell_type": "code",
   "execution_count": null,
   "id": "59ea30a7-bc97-4cdd-94b5-f3a5fa7ec9c3",
   "metadata": {},
   "outputs": [],
   "source": []
  }
 ],
 "metadata": {
  "kernelspec": {
   "display_name": "Python 3 (ipykernel)",
   "language": "python",
   "name": "python3"
  },
  "language_info": {
   "codemirror_mode": {
    "name": "ipython",
    "version": 3
   },
   "file_extension": ".py",
   "mimetype": "text/x-python",
   "name": "python",
   "nbconvert_exporter": "python",
   "pygments_lexer": "ipython3",
   "version": "3.12.6"
  }
 },
 "nbformat": 4,
 "nbformat_minor": 5
}
